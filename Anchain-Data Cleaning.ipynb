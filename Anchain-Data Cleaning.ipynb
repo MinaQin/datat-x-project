{
 "cells": [
  {
   "cell_type": "code",
   "execution_count": 1,
   "metadata": {},
   "outputs": [],
   "source": [
    "import json\n",
    "from datetime import date, datetime, timedelta\n",
    "import pandas as pd\n",
    "import numpy as np    "
   ]
  },
  {
   "cell_type": "markdown",
   "metadata": {},
   "source": [
    "## Some bot & human accouts from our advisor"
   ]
  },
  {
   "cell_type": "code",
   "execution_count": 121,
   "metadata": {},
   "outputs": [],
   "source": [
    "bot_account=['edgarwinston','griffinhamza','jacksonjimmy','1ffyqhg4rmbk','powellernest','2rezoaf4bhly','nckj42dit5sb','scottphillip','oepa252sdx4p','myh2o4wayvxg']\n",
    "human_account=['g44dinjygene','onebrother11','rvrkingfishr','iloveyoudapp','huiyong12345','pketothemoon','zhshj1212123','vipgamedice2','dldldldldldl','pkeniubixxxx']"
   ]
  },
  {
   "cell_type": "markdown",
   "metadata": {},
   "source": [
    "# dicex"
   ]
  },
  {
   "cell_type": "markdown",
   "metadata": {},
   "source": [
    "## transfer .json into .csv"
   ]
  },
  {
   "cell_type": "raw",
   "metadata": {},
   "source": [
    "#dicex_data = []\n",
    "file = open('dicex-20190331.json','r')\n",
    "for line in file.readlines():\n",
    "    dicex_data.append(json.loads(line))\n",
    "#dicex_data=DataFrame(dicex_data)\n",
    "\n",
    "dicex_dataset=pd.DataFrame(dicex_data)\n",
    "del dicex_dataset['authorization']\n",
    "dicex_dataset.drop_duplicates();\n",
    "dicex_dataset.shape  ##[3048296, 16]\n",
    "\n",
    "## timestamp transformation\n",
    "dicex_dataset['trx_timestamp']=pd.to_datetime(dicex_dataset['trx_timestamp'],format='%Y-%m-%d %H:%M:%S',errors='ignore')\n",
    "dicex_dataset.loc[:,'Year'] = dicex_dataset['trx_timestamp'].apply(lambda x: x.year)\n",
    "dicex_dataset.loc[:,'Month'] = dicex_dataset['trx_timestamp'].apply(lambda x: x.month)\n",
    "dicex_dataset.loc[:,'Day'] = dicex_dataset['trx_timestamp'].apply(lambda x: x.day)\n",
    "dicex_dataset.loc[:,'Hour'] = dicex_dataset['trx_timestamp'].apply(lambda x: x.hour)\n",
    "\n",
    "##write\n",
    "dicex_dataset.to_csv('dicex_data.csv')"
   ]
  },
  {
   "cell_type": "code",
   "execution_count": 2,
   "metadata": {},
   "outputs": [
    {
     "name": "stderr",
     "output_type": "stream",
     "text": [
      "C:\\Users\\sissy\\Anaconda3\\lib\\site-packages\\numpy\\lib\\arraysetops.py:569: FutureWarning: elementwise comparison failed; returning scalar instead, but in the future will perform elementwise comparison\n",
      "  mask |= (ar1 == a)\n"
     ]
    }
   ],
   "source": [
    "dicex_dataset=pd.read_csv('dicex_data.csv',index_col=0)\n",
    "del dicex_dataset['data']\n",
    "dicex_dataset.dropna(axis=0,how='any',inplace=True)\n",
    "dicex_dataset.head()\n",
    "dicex_dataset.to_csv('dicex_data_new.csv')"
   ]
  },
  {
   "cell_type": "code",
   "execution_count": 122,
   "metadata": {},
   "outputs": [
    {
     "name": "stdout",
     "output_type": "stream",
     "text": [
      "['1ffyqhg4rmbk', 'edgarwinston', 'griffinhamza', 'nckj42dit5sb']\n",
      "[]\n"
     ]
    }
   ],
   "source": [
    "# save labeled accounts again for future use\n",
    "bot_account_new = list(np.unique(dicex_dataset[dicex_dataset.d_from.isin(bot_account)]['d_from']))\n",
    "human_account_new = list(np.unique(dicex_dataset[dicex_dataset.d_from.isin(human_account)]['d_from']))\n",
    "print(bot_account_new)\n",
    "print(human_account_new)"
   ]
  },
  {
   "cell_type": "code",
   "execution_count": 32,
   "metadata": {
    "scrolled": true
   },
   "outputs": [],
   "source": [
    "#filter: find labeled accounts and put them into our training set\n",
    "dicex_feature = dicex_dataset[dicex_dataset.d_from.isin(bot_account_new)| dicex_dataset.d_from.isin(human_account_new)].reset_index(drop=True)"
   ]
  },
  {
   "cell_type": "code",
   "execution_count": 33,
   "metadata": {},
   "outputs": [],
   "source": [
    "#drop useless columns\n",
    "dicex_dataset.drop(['name','trx_id','global_action_seq','trx_timestamp_unix','block_num','account_action_seq','d_memo'],axis=1,inplace=True)\n",
    "#dicex_feature.head()"
   ]
  },
  {
   "cell_type": "code",
   "execution_count": 31,
   "metadata": {},
   "outputs": [],
   "source": [
    "dicex = pd.DataFrame() # dicex is our final data set"
   ]
  },
  {
   "cell_type": "markdown",
   "metadata": {},
   "source": [
    "# Add features"
   ]
  },
  {
   "cell_type": "code",
   "execution_count": 34,
   "metadata": {},
   "outputs": [],
   "source": [
    "# add feature: num_account_type\n",
    "df = dicex_dataset.groupby(['d_from','account']).count()['trx_timestamp'].reset_index().pivot('d_from','account','trx_timestamp').isna()\n",
    "for type in np.unique(dicex_dataset.account):\n",
    "    df[type] = df[type].apply(lambda x: 0 if x is True else 1)\n",
    "df['num_account'] = df.apply(lambda x: x.sum(), axis=1)\n",
    "dicex['num_account_type'] = list(df['num_account'])\n",
    "dicex['user'] = df.index\n",
    "dicex.index = df.index"
   ]
  },
  {
   "cell_type": "code",
   "execution_count": 25,
   "metadata": {},
   "outputs": [],
   "source": [
    "# add feature: num_d_unit\n",
    "df = dicex_dataset.groupby(['d_from','d_quantity_unit']).count()['trx_timestamp'].reset_index().pivot('d_from','d_quantity_unit','trx_timestamp').isna()\n",
    "for type in np.unique(dicex_dataset.d_quantity_unit):\n",
    "    df[type] = df[type].apply(lambda x: 0 if x is True else 1)\n",
    "df['num_d_unit'] = df.apply(lambda x: x.sum(), axis=1)\n",
    "dicex['num_d_unit'] = list(df['num_d_unit'])"
   ]
  },
  {
   "cell_type": "code",
   "execution_count": 26,
   "metadata": {},
   "outputs": [],
   "source": [
    "# add feature: type_d_to\n",
    "df = dicex_dataset.groupby(['d_from','d_to']).count()['trx_timestamp'].reset_index().pivot('d_from','d_to','trx_timestamp').isna()\n",
    "for type in np.unique(dicex_dataset.d_to):\n",
    "    df[type] = df[type].apply(lambda x: 0 if x is True else 1)\n",
    "df['type_d_to'] = df.apply(lambda x: x.sum(), axis=1)\n",
    "dicex['type_d_to'] = list(df['type_d_to'])"
   ]
  },
  {
   "cell_type": "code",
   "execution_count": 27,
   "metadata": {},
   "outputs": [],
   "source": [
    "# add feature: Quantity_variance\n",
    "df = dicex_dataset.groupby(['d_from','Day']).sum()['d_quantity'].reset_index().groupby('d_from').agg({'d_quantity':np.var})\n",
    "dicex['quantity_variance'] = list(df['d_quantity'].apply(lambda x: 0 if np.isnan(x) else x))"
   ]
  },
  {
   "cell_type": "code",
   "execution_count": 28,
   "metadata": {},
   "outputs": [],
   "source": [
    "# add feature: Frequency_variance\n",
    "df = dicex_dataset.groupby(['d_from','Day']).count()['trx_timestamp'].reset_index().groupby('d_from').agg({'trx_timestamp':np.var})\n",
    "dicex['frequency_variance'] = list(df['trx_timestamp'].apply(lambda x: 0 if np.isnan(x) else x))"
   ]
  },
  {
   "cell_type": "code",
   "execution_count": 51,
   "metadata": {},
   "outputs": [],
   "source": [
    "# add feature: Time_interval_rate: 100 * reciprocal of min interval between two transaction\n",
    "def find_min_interval(data):\n",
    "    interval = []\n",
    "    for i in range(len(data)-1):\n",
    "        d = abs(data[i]-data[i+1])\n",
    "        interval.append(d)\n",
    "    return min(interval).total_seconds() if interval else float('inf')\n",
    "\n",
    "interval = []\n",
    "for x in np.unique(dicex_dataset.d_from):\n",
    "    df = dicex_dataset[dicex_dataset.d_from==x].sort_values(by='trx_timestamp',ascending=False)['trx_timestamp'].apply(lambda x: datetime.strptime(x, \"%Y-%m-%d %H:%M:%S.%f\")).reset_index(drop=True)\n",
    "    interval.append(100/(find_min_interval(df)+1)) # avoid time_interval=0\n",
    "dicex['Time_interval_rate'] = interval"
   ]
  },
  {
   "cell_type": "code",
   "execution_count": 80,
   "metadata": {},
   "outputs": [],
   "source": [
    "# add feature:   Activity_day(how many days each account is active for transactions in one month count/set/day)\n",
    "# dicex_feature.groupby('d_from')['Day'].unique().reset_index() \n",
    "df = dicex_dataset.groupby('d_from')['Day'].nunique().reset_index() \n",
    "df.index = df['d_from']\n",
    "dicex['activity_day'] = df['Day']"
   ]
  },
  {
   "cell_type": "code",
   "execution_count": 82,
   "metadata": {},
   "outputs": [],
   "source": [
    "# add feature:  Active_hour(how many hours each account is active for transactions per day)\n",
    "df = dicex_dataset.groupby(['d_from','Day'])['Hour'].nunique().reset_index() \n",
    "df1 = df.groupby(\"d_from\")['Hour'].mean().reset_index() \n",
    "df1.index = df1['d_from']\n",
    "dicex['activity_hour'] = df1['Hour']"
   ]
  },
  {
   "cell_type": "code",
   "execution_count": 84,
   "metadata": {},
   "outputs": [],
   "source": [
    "# add feature: Max_Active_hour(how many hours each account is active for transactions in unit period)\n",
    "df = dicex_dataset.groupby(['d_from','Day'])['Hour'].nunique().reset_index() \n",
    "df1 = df.groupby(\"d_from\")['Hour'].max().reset_index() \n",
    "df1.index = df1['d_from']\n",
    "dicex['max_active_hour'] = df1['Hour']"
   ]
  },
  {
   "cell_type": "code",
   "execution_count": 86,
   "metadata": {},
   "outputs": [],
   "source": [
    "# add feature: Transaction level (total number orders for each customer count)\n",
    "df = dicex_dataset.groupby('d_from')['trx_timestamp'].count().reset_index() \n",
    "df.index = df['d_from']\n",
    "dicex['transaction_level'] = df['trx_timestamp']"
   ]
  },
  {
   "cell_type": "code",
   "execution_count": 57,
   "metadata": {},
   "outputs": [
    {
     "name": "stderr",
     "output_type": "stream",
     "text": [
      "C:\\Users\\sissy\\Anaconda3\\lib\\site-packages\\ipykernel_launcher.py:16: UserWarning: Boolean Series key will be reindexed to match DataFrame index.\n",
      "  app.launch_new_instance()\n"
     ]
    }
   ],
   "source": [
    "# add feature: Active_hour_len\n",
    "def continuous_hours(data):\n",
    "    length = 1\n",
    "    for i in range(len(data)-1):\n",
    "        if data[i+1] == (data[i]+1):\n",
    "            length += 1\n",
    "        else:\n",
    "            break\n",
    "    return length\n",
    "\n",
    "avg_hour_len = []\n",
    "for x in np.unique(dicex_dataset.d_from):\n",
    "    time_len = []\n",
    "    df = dicex_dataset[dicex_dataset.d_from==x]\n",
    "    for y in np.unique(df.Day):\n",
    "        hour = np.unique(df[dicex_dataset.Day==y]['Hour'].reset_index(drop=True))\n",
    "        time_len.append(continuous_hours(hour))\n",
    "    avg_hour_len.append(np.mean(time_len))\n",
    "dicex['Active_hour_len'] = avg_hour_len"
   ]
  },
  {
   "cell_type": "code",
   "execution_count": 59,
   "metadata": {},
   "outputs": [
    {
     "name": "stderr",
     "output_type": "stream",
     "text": [
      "C:\\Users\\sissy\\Anaconda3\\lib\\site-packages\\ipykernel_launcher.py:7: UserWarning: Boolean Series key will be reindexed to match DataFrame index.\n",
      "  import sys\n"
     ]
    }
   ],
   "source": [
    "# add feature: Max_Active_hour_len\n",
    "max_hour_len = []\n",
    "for x in np.unique(dicex_dataset.d_from):\n",
    "    time_len = []\n",
    "    df = dicex_dataset[dicex_dataset.d_from==x]\n",
    "    for y in np.unique(df.Day):\n",
    "        hour = np.unique(df[dicex_dataset.Day==y]['Hour'].reset_index(drop=True))\n",
    "        time_len.append(continuous_hours(hour))\n",
    "    max_hour_len.append(max(time_len))\n",
    "dicex['Max_hour_len'] = max_hour_len"
   ]
  },
  {
   "cell_type": "code",
   "execution_count": 493,
   "metadata": {},
   "outputs": [],
   "source": [
    "#add label\n",
    "dicex['label'] = dicex['user'].apply(lambda x: 1 if x in bot_account_new else 0)"
   ]
  },
  {
   "cell_type": "code",
   "execution_count": 88,
   "metadata": {},
   "outputs": [],
   "source": [
    "# save full data set with all features\n",
    "dicex.to_csv('dicex_cleaned.csv')"
   ]
  }
 ],
 "metadata": {
  "kernelspec": {
   "display_name": "Python 3",
   "language": "python",
   "name": "python3"
  },
  "language_info": {
   "codemirror_mode": {
    "name": "ipython",
    "version": 3
   },
   "file_extension": ".py",
   "mimetype": "text/x-python",
   "name": "python",
   "nbconvert_exporter": "python",
   "pygments_lexer": "ipython3",
   "version": "3.7.3"
  }
 },
 "nbformat": 4,
 "nbformat_minor": 2
}
